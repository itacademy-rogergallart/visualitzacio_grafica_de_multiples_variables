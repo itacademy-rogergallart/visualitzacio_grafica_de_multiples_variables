{
  "nbformat": 4,
  "nbformat_minor": 0,
  "metadata": {
    "colab": {
      "name": "tasca6A_visualitzacio_grafica_multiples_variables.ipynb",
      "provenance": [],
      "authorship_tag": "ABX9TyP2tAnmQrfNkJOHGYpel9V5"
    },
    "kernelspec": {
      "name": "python3",
      "display_name": "Python 3"
    },
    "language_info": {
      "name": "python"
    }
  },
  "cells": [
    {
      "cell_type": "markdown",
      "metadata": {
        "id": "eAFHBTqEK35R"
      },
      "source": [
        "# Tasca 6A: Visualització gràfica de Múltiples variables\n",
        "\n",
        "Roger Gallart - 1 maig 2021"
      ]
    },
    {
      "cell_type": "markdown",
      "metadata": {
        "id": "kgwDQeN1K3z4"
      },
      "source": [
        "## Nivell 1"
      ]
    },
    {
      "cell_type": "markdown",
      "metadata": {
        "id": "6YkJqclRK3sf"
      },
      "source": [
        "### Exercici 1\n",
        "\n",
        "Realitza la pràctica del notebook a GitHub \"03 EXAMINING DATA\" amb seaborn i el dataset \"tips\".\n",
        "\n",
        "https://github.com/itacademy-rogergallart/visualitzacio_grafica_de_multiples_variables/blob/main/03_EXAMINING_DATA.ipynb\n"
      ]
    },
    {
      "cell_type": "markdown",
      "metadata": {
        "id": "uVNboW9iK3k4"
      },
      "source": [
        "## Nivell 2"
      ]
    },
    {
      "cell_type": "markdown",
      "metadata": {
        "id": "hcy1y8y6K3ce"
      },
      "source": [
        "### Exercici 2\n",
        "\n",
        "Repeteix l'exercici 1 amb el dataset que disposem en el repositori de GitHub PRE-PROCESSING-DATA, movies.dat\n",
        "\n"
      ]
    },
    {
      "cell_type": "code",
      "metadata": {
        "id": "D0m08P5mOFDA"
      },
      "source": [
        "import pandas as pd\n",
        "import numpy as np\n",
        "import re"
      ],
      "execution_count": 1,
      "outputs": []
    },
    {
      "cell_type": "code",
      "metadata": {
        "id": "saiW0Y-6OJLv"
      },
      "source": [
        "df = pd.read_csv(\"https://raw.githubusercontent.com/IT-Academy-BCN/Data-Science/main/Pre-processing-data/movies.dat\",\n",
        "                 sep='::',  encoding = 'ISO-8859-1', index_col=0, names=['TitleYear','Genres'], engine='python')"
      ],
      "execution_count": null,
      "outputs": []
    },
    {
      "cell_type": "code",
      "metadata": {
        "colab": {
          "base_uri": "https://localhost:8080/",
          "height": 204
        },
        "id": "6Ph7F-GyPjw-",
        "outputId": "cefa7563-9127-4d20-ca0b-b3cf06a374e1"
      },
      "source": [
        "df.head()"
      ],
      "execution_count": null,
      "outputs": [
        {
          "output_type": "execute_result",
          "data": {
            "text/html": [
              "<div>\n",
              "<style scoped>\n",
              "    .dataframe tbody tr th:only-of-type {\n",
              "        vertical-align: middle;\n",
              "    }\n",
              "\n",
              "    .dataframe tbody tr th {\n",
              "        vertical-align: top;\n",
              "    }\n",
              "\n",
              "    .dataframe thead th {\n",
              "        text-align: right;\n",
              "    }\n",
              "</style>\n",
              "<table border=\"1\" class=\"dataframe\">\n",
              "  <thead>\n",
              "    <tr style=\"text-align: right;\">\n",
              "      <th></th>\n",
              "      <th>TitleYear</th>\n",
              "      <th>Genres</th>\n",
              "    </tr>\n",
              "  </thead>\n",
              "  <tbody>\n",
              "    <tr>\n",
              "      <th>1</th>\n",
              "      <td>Toy Story (1995)</td>\n",
              "      <td>Animation|Children's|Comedy</td>\n",
              "    </tr>\n",
              "    <tr>\n",
              "      <th>2</th>\n",
              "      <td>Jumanji (1995)</td>\n",
              "      <td>Adventure|Children's|Fantasy</td>\n",
              "    </tr>\n",
              "    <tr>\n",
              "      <th>3</th>\n",
              "      <td>Grumpier Old Men (1995)</td>\n",
              "      <td>Comedy|Romance</td>\n",
              "    </tr>\n",
              "    <tr>\n",
              "      <th>4</th>\n",
              "      <td>Waiting to Exhale (1995)</td>\n",
              "      <td>Comedy|Drama</td>\n",
              "    </tr>\n",
              "    <tr>\n",
              "      <th>5</th>\n",
              "      <td>Father of the Bride Part II (1995)</td>\n",
              "      <td>Comedy</td>\n",
              "    </tr>\n",
              "  </tbody>\n",
              "</table>\n",
              "</div>"
            ],
            "text/plain": [
              "                            TitleYear                        Genres\n",
              "1                    Toy Story (1995)   Animation|Children's|Comedy\n",
              "2                      Jumanji (1995)  Adventure|Children's|Fantasy\n",
              "3             Grumpier Old Men (1995)                Comedy|Romance\n",
              "4            Waiting to Exhale (1995)                  Comedy|Drama\n",
              "5  Father of the Bride Part II (1995)                        Comedy"
            ]
          },
          "metadata": {
            "tags": []
          },
          "execution_count": 123
        }
      ]
    },
    {
      "cell_type": "code",
      "metadata": {
        "id": "e4e-eo9xHqfX"
      },
      "source": [
        "dummy = df.TitleYear.str.extract(r'(.+)\\s*\\((\\d\\d\\d\\d)\\)$')\n",
        "df['Title'] = dummy.iloc[:,0]\n",
        "df['Year'] = dummy.iloc[:,1]\n",
        "\n",
        "df['Title'] = df['Title'].str.strip()\n",
        "df['Year'] = df['Year'].astype('int64')"
      ],
      "execution_count": null,
      "outputs": []
    },
    {
      "cell_type": "code",
      "metadata": {
        "colab": {
          "base_uri": "https://localhost:8080/",
          "height": 204
        },
        "id": "a09XxjSRCGvI",
        "outputId": "76291f9f-1d18-46fa-860b-c2b410877c5e"
      },
      "source": [
        "# Esborrem la columna TitleYear i reordenem la resta\n",
        "del df['TitleYear']\n",
        "df = df[['Title','Year','Genres']]\n",
        "df.head()"
      ],
      "execution_count": null,
      "outputs": [
        {
          "output_type": "execute_result",
          "data": {
            "text/html": [
              "<div>\n",
              "<style scoped>\n",
              "    .dataframe tbody tr th:only-of-type {\n",
              "        vertical-align: middle;\n",
              "    }\n",
              "\n",
              "    .dataframe tbody tr th {\n",
              "        vertical-align: top;\n",
              "    }\n",
              "\n",
              "    .dataframe thead th {\n",
              "        text-align: right;\n",
              "    }\n",
              "</style>\n",
              "<table border=\"1\" class=\"dataframe\">\n",
              "  <thead>\n",
              "    <tr style=\"text-align: right;\">\n",
              "      <th></th>\n",
              "      <th>Title</th>\n",
              "      <th>Year</th>\n",
              "      <th>Genres</th>\n",
              "    </tr>\n",
              "  </thead>\n",
              "  <tbody>\n",
              "    <tr>\n",
              "      <th>1</th>\n",
              "      <td>Toy Story</td>\n",
              "      <td>1995</td>\n",
              "      <td>Animation|Children's|Comedy</td>\n",
              "    </tr>\n",
              "    <tr>\n",
              "      <th>2</th>\n",
              "      <td>Jumanji</td>\n",
              "      <td>1995</td>\n",
              "      <td>Adventure|Children's|Fantasy</td>\n",
              "    </tr>\n",
              "    <tr>\n",
              "      <th>3</th>\n",
              "      <td>Grumpier Old Men</td>\n",
              "      <td>1995</td>\n",
              "      <td>Comedy|Romance</td>\n",
              "    </tr>\n",
              "    <tr>\n",
              "      <th>4</th>\n",
              "      <td>Waiting to Exhale</td>\n",
              "      <td>1995</td>\n",
              "      <td>Comedy|Drama</td>\n",
              "    </tr>\n",
              "    <tr>\n",
              "      <th>5</th>\n",
              "      <td>Father of the Bride Part II</td>\n",
              "      <td>1995</td>\n",
              "      <td>Comedy</td>\n",
              "    </tr>\n",
              "  </tbody>\n",
              "</table>\n",
              "</div>"
            ],
            "text/plain": [
              "                         Title  Year                        Genres\n",
              "1                    Toy Story  1995   Animation|Children's|Comedy\n",
              "2                      Jumanji  1995  Adventure|Children's|Fantasy\n",
              "3             Grumpier Old Men  1995                Comedy|Romance\n",
              "4            Waiting to Exhale  1995                  Comedy|Drama\n",
              "5  Father of the Bride Part II  1995                        Comedy"
            ]
          },
          "metadata": {
            "tags": []
          },
          "execution_count": 125
        }
      ]
    },
    {
      "cell_type": "code",
      "metadata": {
        "colab": {
          "base_uri": "https://localhost:8080/"
        },
        "id": "FLAyZTj0C0lq",
        "outputId": "8cd04ad0-257b-4196-e13b-2a53b786f9e4"
      },
      "source": [
        "df.info()"
      ],
      "execution_count": null,
      "outputs": [
        {
          "output_type": "stream",
          "text": [
            "<class 'pandas.core.frame.DataFrame'>\n",
            "Int64Index: 3883 entries, 1 to 3952\n",
            "Data columns (total 3 columns):\n",
            " #   Column  Non-Null Count  Dtype \n",
            "---  ------  --------------  ----- \n",
            " 0   Title   3883 non-null   object\n",
            " 1   Year    3883 non-null   int64 \n",
            " 2   Genres  3883 non-null   object\n",
            "dtypes: int64(1), object(2)\n",
            "memory usage: 121.3+ KB\n"
          ],
          "name": "stdout"
        }
      ]
    },
    {
      "cell_type": "code",
      "metadata": {
        "id": "ud3t4SAnQwCb"
      },
      "source": [
        "df_genres = df.Genres.str.get_dummies(sep='|').add_prefix('Genre_')\n",
        "df_genres = df_genres.astype(\"Sparse[int]\")"
      ],
      "execution_count": null,
      "outputs": []
    },
    {
      "cell_type": "code",
      "metadata": {
        "id": "vqdzaxtQyp1i"
      },
      "source": [
        "df = pd.concat([df,df_genres], axis=1)\n",
        "del df['Genres']"
      ],
      "execution_count": null,
      "outputs": []
    },
    {
      "cell_type": "code",
      "metadata": {
        "colab": {
          "base_uri": "https://localhost:8080/",
          "height": 309
        },
        "id": "fJ8t82bMdTi3",
        "outputId": "17269432-ebc7-404d-c3be-3eedd2c7c934"
      },
      "source": [
        "df.head()"
      ],
      "execution_count": null,
      "outputs": [
        {
          "output_type": "execute_result",
          "data": {
            "text/html": [
              "<div>\n",
              "<style scoped>\n",
              "    .dataframe tbody tr th:only-of-type {\n",
              "        vertical-align: middle;\n",
              "    }\n",
              "\n",
              "    .dataframe tbody tr th {\n",
              "        vertical-align: top;\n",
              "    }\n",
              "\n",
              "    .dataframe thead th {\n",
              "        text-align: right;\n",
              "    }\n",
              "</style>\n",
              "<table border=\"1\" class=\"dataframe\">\n",
              "  <thead>\n",
              "    <tr style=\"text-align: right;\">\n",
              "      <th></th>\n",
              "      <th>Title</th>\n",
              "      <th>Year</th>\n",
              "      <th>Genre_Action</th>\n",
              "      <th>Genre_Adventure</th>\n",
              "      <th>Genre_Animation</th>\n",
              "      <th>Genre_Children's</th>\n",
              "      <th>Genre_Comedy</th>\n",
              "      <th>Genre_Crime</th>\n",
              "      <th>Genre_Documentary</th>\n",
              "      <th>Genre_Drama</th>\n",
              "      <th>Genre_Fantasy</th>\n",
              "      <th>Genre_Film-Noir</th>\n",
              "      <th>Genre_Horror</th>\n",
              "      <th>Genre_Musical</th>\n",
              "      <th>Genre_Mystery</th>\n",
              "      <th>Genre_Romance</th>\n",
              "      <th>Genre_Sci-Fi</th>\n",
              "      <th>Genre_Thriller</th>\n",
              "      <th>Genre_War</th>\n",
              "      <th>Genre_Western</th>\n",
              "    </tr>\n",
              "  </thead>\n",
              "  <tbody>\n",
              "    <tr>\n",
              "      <th>1</th>\n",
              "      <td>Toy Story</td>\n",
              "      <td>1995</td>\n",
              "      <td>0</td>\n",
              "      <td>0</td>\n",
              "      <td>1</td>\n",
              "      <td>1</td>\n",
              "      <td>1</td>\n",
              "      <td>0</td>\n",
              "      <td>0</td>\n",
              "      <td>0</td>\n",
              "      <td>0</td>\n",
              "      <td>0</td>\n",
              "      <td>0</td>\n",
              "      <td>0</td>\n",
              "      <td>0</td>\n",
              "      <td>0</td>\n",
              "      <td>0</td>\n",
              "      <td>0</td>\n",
              "      <td>0</td>\n",
              "      <td>0</td>\n",
              "    </tr>\n",
              "    <tr>\n",
              "      <th>2</th>\n",
              "      <td>Jumanji</td>\n",
              "      <td>1995</td>\n",
              "      <td>0</td>\n",
              "      <td>1</td>\n",
              "      <td>0</td>\n",
              "      <td>1</td>\n",
              "      <td>0</td>\n",
              "      <td>0</td>\n",
              "      <td>0</td>\n",
              "      <td>0</td>\n",
              "      <td>1</td>\n",
              "      <td>0</td>\n",
              "      <td>0</td>\n",
              "      <td>0</td>\n",
              "      <td>0</td>\n",
              "      <td>0</td>\n",
              "      <td>0</td>\n",
              "      <td>0</td>\n",
              "      <td>0</td>\n",
              "      <td>0</td>\n",
              "    </tr>\n",
              "    <tr>\n",
              "      <th>3</th>\n",
              "      <td>Grumpier Old Men</td>\n",
              "      <td>1995</td>\n",
              "      <td>0</td>\n",
              "      <td>0</td>\n",
              "      <td>0</td>\n",
              "      <td>0</td>\n",
              "      <td>1</td>\n",
              "      <td>0</td>\n",
              "      <td>0</td>\n",
              "      <td>0</td>\n",
              "      <td>0</td>\n",
              "      <td>0</td>\n",
              "      <td>0</td>\n",
              "      <td>0</td>\n",
              "      <td>0</td>\n",
              "      <td>1</td>\n",
              "      <td>0</td>\n",
              "      <td>0</td>\n",
              "      <td>0</td>\n",
              "      <td>0</td>\n",
              "    </tr>\n",
              "    <tr>\n",
              "      <th>4</th>\n",
              "      <td>Waiting to Exhale</td>\n",
              "      <td>1995</td>\n",
              "      <td>0</td>\n",
              "      <td>0</td>\n",
              "      <td>0</td>\n",
              "      <td>0</td>\n",
              "      <td>1</td>\n",
              "      <td>0</td>\n",
              "      <td>0</td>\n",
              "      <td>1</td>\n",
              "      <td>0</td>\n",
              "      <td>0</td>\n",
              "      <td>0</td>\n",
              "      <td>0</td>\n",
              "      <td>0</td>\n",
              "      <td>0</td>\n",
              "      <td>0</td>\n",
              "      <td>0</td>\n",
              "      <td>0</td>\n",
              "      <td>0</td>\n",
              "    </tr>\n",
              "    <tr>\n",
              "      <th>5</th>\n",
              "      <td>Father of the Bride Part II</td>\n",
              "      <td>1995</td>\n",
              "      <td>0</td>\n",
              "      <td>0</td>\n",
              "      <td>0</td>\n",
              "      <td>0</td>\n",
              "      <td>1</td>\n",
              "      <td>0</td>\n",
              "      <td>0</td>\n",
              "      <td>0</td>\n",
              "      <td>0</td>\n",
              "      <td>0</td>\n",
              "      <td>0</td>\n",
              "      <td>0</td>\n",
              "      <td>0</td>\n",
              "      <td>0</td>\n",
              "      <td>0</td>\n",
              "      <td>0</td>\n",
              "      <td>0</td>\n",
              "      <td>0</td>\n",
              "    </tr>\n",
              "  </tbody>\n",
              "</table>\n",
              "</div>"
            ],
            "text/plain": [
              "                         Title  Year  ...  Genre_War  Genre_Western\n",
              "1                    Toy Story  1995  ...          0              0\n",
              "2                      Jumanji  1995  ...          0              0\n",
              "3             Grumpier Old Men  1995  ...          0              0\n",
              "4            Waiting to Exhale  1995  ...          0              0\n",
              "5  Father of the Bride Part II  1995  ...          0              0\n",
              "\n",
              "[5 rows x 20 columns]"
            ]
          },
          "metadata": {
            "tags": []
          },
          "execution_count": 129
        }
      ]
    },
    {
      "cell_type": "code",
      "metadata": {
        "colab": {
          "base_uri": "https://localhost:8080/"
        },
        "id": "AivqzWLgDmHs",
        "outputId": "db07673f-7759-4a05-ca44-2f47e574b7f9"
      },
      "source": [
        "df.info()"
      ],
      "execution_count": null,
      "outputs": [
        {
          "output_type": "stream",
          "text": [
            "<class 'pandas.core.frame.DataFrame'>\n",
            "Int64Index: 3883 entries, 1 to 3952\n",
            "Data columns (total 20 columns):\n",
            " #   Column             Non-Null Count  Dtype           \n",
            "---  ------             --------------  -----           \n",
            " 0   Title              3883 non-null   object          \n",
            " 1   Year               3883 non-null   int64           \n",
            " 2   Genre_Action       3883 non-null   Sparse[int64, 0]\n",
            " 3   Genre_Adventure    3883 non-null   Sparse[int64, 0]\n",
            " 4   Genre_Animation    3883 non-null   Sparse[int64, 0]\n",
            " 5   Genre_Children's   3883 non-null   Sparse[int64, 0]\n",
            " 6   Genre_Comedy       3883 non-null   Sparse[int64, 0]\n",
            " 7   Genre_Crime        3883 non-null   Sparse[int64, 0]\n",
            " 8   Genre_Documentary  3883 non-null   Sparse[int64, 0]\n",
            " 9   Genre_Drama        3883 non-null   Sparse[int64, 0]\n",
            " 10  Genre_Fantasy      3883 non-null   Sparse[int64, 0]\n",
            " 11  Genre_Film-Noir    3883 non-null   Sparse[int64, 0]\n",
            " 12  Genre_Horror       3883 non-null   Sparse[int64, 0]\n",
            " 13  Genre_Musical      3883 non-null   Sparse[int64, 0]\n",
            " 14  Genre_Mystery      3883 non-null   Sparse[int64, 0]\n",
            " 15  Genre_Romance      3883 non-null   Sparse[int64, 0]\n",
            " 16  Genre_Sci-Fi       3883 non-null   Sparse[int64, 0]\n",
            " 17  Genre_Thriller     3883 non-null   Sparse[int64, 0]\n",
            " 18  Genre_War          3883 non-null   Sparse[int64, 0]\n",
            " 19  Genre_Western      3883 non-null   Sparse[int64, 0]\n",
            "dtypes: Sparse[int64, 0](18), int64(1), object(1)\n",
            "memory usage: 166.1+ KB\n"
          ],
          "name": "stdout"
        }
      ]
    },
    {
      "cell_type": "markdown",
      "metadata": {
        "id": "fby209rjLWiT"
      },
      "source": [
        "## Nivell 3"
      ]
    },
    {
      "cell_type": "markdown",
      "metadata": {
        "id": "I1m2b1OXLW4F"
      },
      "source": [
        "### Exercici 3\n",
        "\n",
        "Mostreu-me la teva creativitat, Sorprèn-me amb el dataset \"movies.dat\" del exercici anterior."
      ]
    }
  ]
}